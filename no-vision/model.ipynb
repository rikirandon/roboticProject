{
 "cells": [
  {
   "cell_type": "code",
   "execution_count": 1,
   "metadata": {},
   "outputs": [
    {
     "name": "stderr",
     "output_type": "stream",
     "text": [
      "2024-02-09 09:28:31.981185: I tensorflow/core/util/port.cc:113] oneDNN custom operations are on. You may see slightly different numerical results due to floating-point round-off errors from different computation orders. To turn them off, set the environment variable `TF_ENABLE_ONEDNN_OPTS=0`.\n",
      "2024-02-09 09:28:32.610134: E external/local_xla/xla/stream_executor/cuda/cuda_dnn.cc:9261] Unable to register cuDNN factory: Attempting to register factory for plugin cuDNN when one has already been registered\n",
      "2024-02-09 09:28:32.610289: E external/local_xla/xla/stream_executor/cuda/cuda_fft.cc:607] Unable to register cuFFT factory: Attempting to register factory for plugin cuFFT when one has already been registered\n",
      "2024-02-09 09:28:32.715324: E external/local_xla/xla/stream_executor/cuda/cuda_blas.cc:1515] Unable to register cuBLAS factory: Attempting to register factory for plugin cuBLAS when one has already been registered\n",
      "2024-02-09 09:28:33.007779: I tensorflow/core/platform/cpu_feature_guard.cc:182] This TensorFlow binary is optimized to use available CPU instructions in performance-critical operations.\n",
      "To enable the following instructions: AVX2 AVX512F AVX512_VNNI FMA, in other operations, rebuild TensorFlow with the appropriate compiler flags.\n",
      "2024-02-09 09:28:34.942515: W tensorflow/compiler/tf2tensorrt/utils/py_utils.cc:38] TF-TRT Warning: Could not find TensorRT\n"
     ]
    }
   ],
   "source": [
    "import os\n",
    "import torchvision\n",
    "from transformers import AutoImageProcessor, AutoModelForObjectDetection, AutoFeatureExtractor, YolosImageProcessor\n",
    "import numpy as np\n",
    "from PIL import Image, ImageDraw\n",
    "import pytorch_lightning as pl\n",
    "import torch\n",
    "from pytorch_lightning import Trainer\n",
    "import torchvision.transforms.functional as TF\n",
    "from torchvision.utils import draw_bounding_boxes\n",
    "import matplotlib.pyplot as plt\n",
    "from torch.utils.data import DataLoader"
   ]
  },
  {
   "cell_type": "code",
   "execution_count": 2,
   "metadata": {},
   "outputs": [
    {
     "data": {
      "application/vnd.jupyter.widget-view+json": {
       "model_id": "f9f3b17e748742e09dd03aa92523ab2b",
       "version_major": 2,
       "version_minor": 0
      },
      "text/plain": [
       "VBox(children=(HTML(value='<center> <img\\nsrc=https://huggingface.co/front/assets/huggingface_logo-noborder.sv…"
      ]
     },
     "metadata": {},
     "output_type": "display_data"
    }
   ],
   "source": [
    "#need to do this to use AutoImageProcessor \n",
    "from huggingface_hub import notebook_login\n",
    "notebook_login()"
   ]
  },
  {
   "cell_type": "code",
   "execution_count": 3,
   "metadata": {},
   "outputs": [],
   "source": [
    "# checkpoint = saved state or config during model training\n",
    "checkpoint = \"hustvl/yolos-tiny\""
   ]
  },
  {
   "cell_type": "code",
   "execution_count": 4,
   "metadata": {},
   "outputs": [
    {
     "name": "stderr",
     "output_type": "stream",
     "text": [
      "Could not find image processor class in the image processor config or the model config. Loading based on pattern matching with the model's feature extractor configuration. Please open a PR/issue to update `preprocessor_config.json` to use `image_processor_type` instead of `feature_extractor_type`. This warning will be removed in v4.40.\n",
      "The `max_size` parameter is deprecated and will be removed in v4.26. Please specify in `size['longest_edge'] instead`.\n"
     ]
    }
   ],
   "source": [
    "# preparing input features for the model -> same as the pretrained model above\n",
    "image_processor = AutoImageProcessor.from_pretrained(\"hustvl/yolos-tiny\", config=\"./config.json\")"
   ]
  },
  {
   "cell_type": "code",
   "execution_count": 5,
   "metadata": {},
   "outputs": [],
   "source": [
    "# pre-trained YOLO model\n",
    "yolo = AutoModelForObjectDetection.from_pretrained(\"hustvl/yolos-tiny\")"
   ]
  },
  {
   "cell_type": "code",
   "execution_count": 6,
   "metadata": {},
   "outputs": [],
   "source": [
    "def draw_bbox(image, bbox, txt_labels=None):\n",
    "  '''\n",
    "      Function to draw a bbox around an object (Lego piece)\n",
    "      Convert the image into a tensor and scale the pixels values\n",
    "      to be within 0 and 255\n",
    "\n",
    "      Use the pytorch function draw_bounding_boxes passing to it the \n",
    "      processed image, the boxes values and the object label \n",
    "\n",
    "      Put back the original \n",
    "\n",
    "  '''\n",
    "  x = (TF.to_tensor(image) * 255.).to(torch.uint8)\n",
    "  bbox = bbox.to(torch.int)\n",
    "\n",
    "  res = draw_bounding_boxes(x, bbox, txt_labels)\n",
    "  # reorder the dimentions of the tensor, put it on CPU (if it was on GPU)\n",
    "  # transform it into a numpy array\n",
    "  return res.permute(1,2,0).cpu().numpy()"
   ]
  },
  {
   "cell_type": "code",
   "execution_count": 7,
   "metadata": {},
   "outputs": [],
   "source": [
    "def make_prediction(image, net, id2label, trashold=0.9):\n",
    "    \"\"\"\n",
    "    image: PIL.Image\n",
    "    net: torch.nn.Module\n",
    "    id2label: dict\n",
    "\n",
    "    TODO: lower the trashold so that it will predict also low conficence boxes\n",
    "    \"\"\"\n",
    "\n",
    "    # use the image_processor object to preprocess the image \n",
    "    # the returned output should be a pytorch tensor\n",
    "    inputs = image_processor(images=image, return_tensors=\"pt\")\n",
    "\n",
    "    # pass the process image into the neural network\n",
    "    outputs = net(**inputs)\n",
    "\n",
    "    # save the size of the input image -> needed in the object detection step\n",
    "    target_sizes = torch.tensor([image.size[::-1]])\n",
    "\n",
    "    # takes the raw outputs from the model and processes them for a readable result\n",
    "    # take only the first (possibly only) value from the result list\n",
    "    \n",
    "    results = image_processor.post_process_object_detection(outputs, threshold=trashold, target_sizes=target_sizes)[0]\n",
    "    print(results)\n",
    "\n",
    "    #print information about the detected object\n",
    "    for score, label, box in zip(results[\"scores\"], results[\"labels\"], results[\"boxes\"]):\n",
    "        box = [round(i, 2) for i in box.tolist()]\n",
    "        print(\n",
    "            f\"Detected {id2label[label.item()]} with confidence \"\n",
    "            f\"{round(score.item(), 3)} at location {box}\"\n",
    "        )\n",
    "\n",
    "    # extract the label from the index\n",
    "    txt_labels = [id2label[label.item()] for label in results[\"labels\"]]\n",
    "\n",
    "    # draw the bbox on the image\n",
    "    pred_on_image = draw_bbox(image, results[\"boxes\"], txt_labels)\n",
    "\n",
    "    # return the image in for on a PIL image\n",
    "    return Image.fromarray(pred_on_image)"
   ]
  },
  {
   "cell_type": "code",
   "execution_count": 8,
   "metadata": {},
   "outputs": [
    {
     "name": "stdout",
     "output_type": "stream",
     "text": [
      "id2label={0: 'X1-Y1-Z2', 1: 'X1-Y2-Z1', 2: 'X1-Y2-Z2', 3: 'X1-Y2-Z2-CHAMFER', 4: 'X1-Y2-Z2-TWINFILLET', 5: 'X1-Y3-Z2', 6: 'X1-Y3-Z2-FILLET', 7: 'X1-Y4-Z1', 8: 'X1-Y4-Z2', 9: 'X2-Y2-Z2', 10: 'X2-Y2-Z2-FILLET'}, label2id={'X1-Y1-Z2': 0, 'X1-Y2-Z1': 1, 'X1-Y2-Z2': 2, 'X1-Y2-Z2-CHAMFER': 3, 'X1-Y2-Z2-TWINFILLET': 4, 'X1-Y3-Z2': 5, 'X1-Y3-Z2-FILLET': 6, 'X1-Y4-Z1': 7, 'X1-Y4-Z2': 8, 'X2-Y2-Z2': 9, 'X2-Y2-Z2-FILLET': 10}\n"
     ]
    }
   ],
   "source": [
    "# name all the classes with the name of the lego piece\n",
    "classes = [\"X1-Y1-Z2\", \n",
    "           \"X1-Y2-Z1\", \n",
    "           \"X1-Y2-Z2\", \n",
    "           \"X1-Y2-Z2-CHAMFER\",\n",
    "           \"X1-Y2-Z2-TWINFILLET\", \n",
    "           \"X1-Y3-Z2\", \n",
    "           \"X1-Y3-Z2-FILLET\", \n",
    "           \"X1-Y4-Z1\", \n",
    "           \"X1-Y4-Z2\", \n",
    "           \"X2-Y2-Z2\", \n",
    "           \"X2-Y2-Z2-FILLET\"]\n",
    "# prepare two dicts with class name and number both as key and as value\n",
    "id2label = {}\n",
    "label2id = {}\n",
    "for i in range(len(classes)):\n",
    "  id2label.update({i : classes[i]})\n",
    "  label2id.update({classes[i] : i})\n",
    "print(f\"id2label={id2label}, label2id={label2id}\")"
   ]
  },
  {
   "cell_type": "code",
   "execution_count": 9,
   "metadata": {},
   "outputs": [],
   "source": [
    "class CocoDetection(torchvision.datasets.CocoDetection):\n",
    "    '''\n",
    "    The purpose of this custom class is to extend the functionality \n",
    "    of the base class and provide additional customization for working \n",
    "    with COCO datasets in PyTorch.\n",
    "\n",
    "    init parameters: folder with the images \n",
    "                    a transformation to be applied to the images\n",
    "                    train_or_test to specify the name of the annotation json\n",
    "    '''\n",
    "    # initialize a CocoDetection object\n",
    "    def __init__(self, image_folder, transform, train_or_test):\n",
    "        # save the path for the annotation file\n",
    "        coco_ann=os.path.join(image_folder, f\"coco_{train_or_test}.json\")\n",
    "        super(CocoDetection, self).__init__(image_folder, coco_ann)\n",
    "        # save the transformation to be applied to the images\n",
    "        self.T = transform\n",
    "\n",
    "    def __getitem__(self, index: int):\n",
    "        img, target = super(CocoDetection, self).__getitem__(index)\n",
    "\n",
    "        # get image id\n",
    "        image_id = self.ids[index]\n",
    "\n",
    "        # create a dict with the image id and its annotations\n",
    "        target={'image_id': image_id, 'annotations':target}\n",
    "\n",
    "        # apply the transformation to the image \n",
    "        encoding = self.T(images = img, annotations=target, return_tensors=\"pt\")\n",
    "\n",
    "        # extract the pixel values and the label from the transformed image\n",
    "        pixel_values = encoding[\"pixel_values\"].squeeze()\n",
    "        target = encoding[\"labels\"][0]\n",
    "\n",
    "        return pixel_values, target"
   ]
  },
  {
   "cell_type": "code",
   "execution_count": 10,
   "metadata": {},
   "outputs": [
    {
     "name": "stderr",
     "output_type": "stream",
     "text": [
      "/home/carlotta/Documents/vision_project/env/lib/python3.10/site-packages/transformers/models/yolos/feature_extraction_yolos.py:38: FutureWarning: The class YolosFeatureExtractor is deprecated and will be removed in version 5 of Transformers. Please use YolosImageProcessor instead.\n",
      "  warnings.warn(\n"
     ]
    }
   ],
   "source": [
    "# inizialize a transformer for feature extraction\n",
    "transform = AutoFeatureExtractor.from_pretrained(\"hustvl/yolos-small\", size=512, max_size=864)"
   ]
  },
  {
   "cell_type": "code",
   "execution_count": 11,
   "metadata": {},
   "outputs": [
    {
     "name": "stdout",
     "output_type": "stream",
     "text": [
      "loading annotations into memory...\n",
      "Done (t=0.01s)\n",
      "creating index...\n",
      "index created!\n",
      "loading annotations into memory...\n",
      "Done (t=0.00s)\n",
      "creating index...\n",
      "index created!\n"
     ]
    }
   ],
   "source": [
    "# Instantiate a CocoDetection object for training\n",
    "# image_folder=specifies the folder with training images\n",
    "# transform=transform specifies the transformation to be applied to the images\n",
    "# train_or_test=specifies the name of the annotation json file for training\n",
    "\n",
    "train_dataset = CocoDetection(image_folder='./train', transform=transform, train_or_test=\"train\")\n",
    "test_dataset = CocoDetection(image_folder='./test', transform=transform, train_or_test=\"test\")"
   ]
  },
  {
   "cell_type": "code",
   "execution_count": 12,
   "metadata": {},
   "outputs": [
    {
     "name": "stdout",
     "output_type": "stream",
     "text": [
      "Number of training examples: 370\n",
      "Number of test examples: 130\n"
     ]
    }
   ],
   "source": [
    "print(\"Number of training examples:\", len(train_dataset))\n",
    "print(\"Number of test examples:\", len(test_dataset))"
   ]
  },
  {
   "cell_type": "code",
   "execution_count": 13,
   "metadata": {},
   "outputs": [
    {
     "name": "stdout",
     "output_type": "stream",
     "text": [
      "Image n°70\n"
     ]
    }
   ],
   "source": [
    "image_ids = test_dataset.coco.getImgIds()\n",
    "image_id = image_ids[np.random.randint(0, len(image_ids))]\n",
    "print('Image n°{}'.format(image_id))\n",
    "image = test_dataset.coco.loadImgs(image_id)[0]\n",
    "image = Image.open(os.path.join('./test', image['file_name']))"
   ]
  },
  {
   "cell_type": "code",
   "execution_count": 14,
   "metadata": {},
   "outputs": [
    {
     "name": "stdout",
     "output_type": "stream",
     "text": [
      "[{'iscrowd': 0, 'image_id': 70, 'bbox': [496.0126953125, 493.8359680175781, 26.11004638671875, 34.190673828125], 'segmentation': [], 'category_id': 4, 'id': 70, 'area': 892}]\n",
      "{0: {'id': 0, 'name': 'X1-Y1-Z2', 'supercategory': 'X1-Y1-Z2'}, 1: {'id': 1, 'name': 'X1-Y2-Z1', 'supercategory': 'X1-Y2-Z1'}, 2: {'id': 2, 'name': 'X1-Y2-Z2', 'supercategory': 'X1-Y2-Z2'}, 3: {'id': 3, 'name': 'X1-Y2-Z2-CHAMFER', 'supercategory': 'X1-Y2-Z2-CHAMFER'}, 4: {'id': 4, 'name': 'X1-Y2-Z2-TWINFILLET', 'supercategory': 'X1-Y2-Z2-TWINFILLET'}, 5: {'id': 5, 'name': 'X1-Y3-Z2', 'supercategory': 'X1-Y3-Z2'}, 6: {'id': 6, 'name': 'X1-Y3-Z2-FILLET', 'supercategory': 'X1-Y3-Z2-FILLET'}, 7: {'id': 7, 'name': 'X1-Y4-Z1', 'supercategory': 'X1-Y4-Z1'}, 8: {'id': 8, 'name': 'X1-Y4-Z2', 'supercategory': 'X1-Y4-Z2'}, 9: {'id': 9, 'name': 'X2-Y2-Z2', 'supercategory': 'X2-Y2-Z2'}, 10: {'id': 10, 'name': 'X2-Y2-Z2-FILLET', 'supercategory': 'X2-Y2-Z2-FILLET'}}\n",
      "[496.0126953125, 493.8359680175781, 26.11004638671875, 34.190673828125]\n",
      "x=496.0126953125, y=493.8359680175781, w=26.11004638671875, h=34.190673828125\n"
     ]
    },
    {
     "data": {
      "image/jpeg": "[encoded data removed]",
      "image/png": "[encoded data removed]",
      "text/plain": [
       "<PIL.JpegImagePlugin.JpegImageFile image mode=RGB size=1024x1024>"
      ]
     },
     "execution_count": 14,
     "metadata": {},
     "output_type": "execute_result"
    }
   ],
   "source": [
    "annotations = test_dataset.coco.imgToAnns[image_id]\n",
    "draw = ImageDraw.Draw(image, \"RGBA\")\n",
    "print(annotations)\n",
    "\n",
    "cats = test_dataset.coco.cats\n",
    "print(cats)\n",
    "\n",
    "id2label = {k: v['name'] for k,v in cats.items()}\n",
    "id2label\n",
    "\n",
    "id2label = {k: v['name'] for k,v in cats.items()}\n",
    "\n",
    "for annotation in annotations:\n",
    "  box = annotation['bbox']\n",
    "  print(box)\n",
    "  class_idx = annotation['category_id']\n",
    "  x,y,w,h = box\n",
    "  image_size = 1024\n",
    "  print(f\"x={x}, y={y}, w={w}, h={h}\")\n",
    "  draw.rectangle((x,y,x+w,y+h), outline='red', width=5)\n",
    "  draw.text((x, y), id2label[class_idx], fill='white')\n",
    "  draw.rectangle((x,y,x+w,y+w), outline='red', width=5)\n",
    "  draw.text((x, y), id2label[class_idx], fill='white')\n",
    "\n",
    "image"
   ]
  },
  {
   "cell_type": "code",
   "execution_count": 15,
   "metadata": {},
   "outputs": [
    {
     "data": {
      "text/plain": [
       "tensor([[[ 0.3823,  0.3823,  0.3823,  ...,  0.3823,  0.3823, -0.1999],\n",
       "         [ 1.0159,  1.0159,  1.0159,  ...,  1.0159,  1.0159,  0.4337],\n",
       "         [ 0.9817,  0.9817,  0.9817,  ...,  0.9988,  0.9988,  0.3994],\n",
       "         ...,\n",
       "         [ 1.2214,  1.2214,  1.2214,  ...,  1.2385,  1.2385,  1.2385],\n",
       "         [ 1.2214,  1.2214,  1.2214,  ...,  1.2385,  1.2385,  1.2385],\n",
       "         [ 1.2214,  1.2214,  1.2214,  ...,  1.2385,  1.2385,  1.2385]],\n",
       "\n",
       "        [[-0.4426, -0.4426, -0.4426,  ..., -0.4426, -0.4426, -1.0378],\n",
       "         [ 0.2052,  0.2052,  0.2052,  ...,  0.2052,  0.2052, -0.3901],\n",
       "         [ 0.1702,  0.1702,  0.1702,  ...,  0.1877,  0.1877, -0.4251],\n",
       "         ...,\n",
       "         [ 0.5028,  0.5028,  0.5028,  ...,  0.4678,  0.4678,  0.4678],\n",
       "         [ 0.5028,  0.5028,  0.5028,  ...,  0.4678,  0.4678,  0.4678],\n",
       "         [ 0.5028,  0.5028,  0.5028,  ...,  0.4678,  0.4678,  0.4678]],\n",
       "\n",
       "        [[ 0.9494,  0.9494,  0.9494,  ...,  0.9494,  0.9494,  0.3568],\n",
       "         [ 1.5942,  1.5942,  1.5942,  ...,  1.5942,  1.5942,  1.0017],\n",
       "         [ 1.5594,  1.5594,  1.5594,  ...,  1.5768,  1.5768,  0.9668],\n",
       "         ...,\n",
       "         [ 1.6117,  1.6117,  1.6117,  ...,  1.6291,  1.6291,  1.6291],\n",
       "         [ 1.6117,  1.6117,  1.6117,  ...,  1.6291,  1.6291,  1.6291],\n",
       "         [ 1.6117,  1.6117,  1.6117,  ...,  1.6291,  1.6291,  1.6291]]])"
      ]
     },
     "execution_count": 15,
     "metadata": {},
     "output_type": "execute_result"
    }
   ],
   "source": [
    "pixel_values, target = train_dataset[0]\n",
    "pixel_values"
   ]
  },
  {
   "cell_type": "code",
   "execution_count": 16,
   "metadata": {},
   "outputs": [
    {
     "data": {
      "text/plain": [
       "{'size': tensor([1024, 1024]), 'image_id': tensor([1]), 'class_labels': tensor([0]), 'boxes': tensor([[0.4954, 0.5214, 0.0360, 0.0528]]), 'area': tensor([1992.]), 'iscrowd': tensor([0]), 'orig_size': tensor([1024, 1024])}"
      ]
     },
     "execution_count": 16,
     "metadata": {},
     "output_type": "execute_result"
    }
   ],
   "source": [
    "target"
   ]
  },
  {
   "cell_type": "code",
   "execution_count": 17,
   "metadata": {},
   "outputs": [],
   "source": [
    "def collate_fn(batch):\n",
    "  # Extract pixel_values from each item in the batch\n",
    "  pixel_values = [item[0] for item in batch]\n",
    "\n",
    "  # Extract labels from each item in the batch\n",
    "  labels = [item[1] for item in batch]\n",
    "\n",
    "  encoding = transform.pad(pixel_values, return_tensors=\"pt\")\n",
    "  \n",
    "  batch = {}\n",
    "  batch['pixel_values'] = encoding['pixel_values']\n",
    "  batch['labels'] = labels\n",
    "  return batch"
   ]
  },
  {
   "cell_type": "code",
   "execution_count": 18,
   "metadata": {},
   "outputs": [
    {
     "data": {
      "text/plain": [
       "dict_keys(['pixel_values', 'labels'])"
      ]
     },
     "execution_count": 18,
     "metadata": {},
     "output_type": "execute_result"
    }
   ],
   "source": [
    "train_dataloader = DataLoader(train_dataset, collate_fn=collate_fn, batch_size=1, shuffle=True)\n",
    "val_dataloader = DataLoader(test_dataset, collate_fn=collate_fn, batch_size=1)\n",
    "batch = next(iter(train_dataloader))\n",
    "\n",
    "batch.keys()"
   ]
  },
  {
   "cell_type": "code",
   "execution_count": 19,
   "metadata": {},
   "outputs": [
    {
     "data": {
      "text/plain": [
       "{'pixel_values': tensor([[[[-0.1999, -0.1999, -0.1999,  ..., -0.3027, -0.3198, -0.6794],\n",
       "           [ 0.1768,  0.1768,  0.1768,  ...,  0.0569,  0.0227, -0.3369],\n",
       "           [ 0.2282,  0.2282,  0.2282,  ...,  0.1426,  0.1254, -0.2513],\n",
       "           ...,\n",
       "           [ 1.1529,  1.1529,  1.1529,  ...,  1.1529,  1.1529,  1.1529],\n",
       "           [ 1.1529,  1.1529,  1.1529,  ...,  1.1529,  1.1529,  1.1529],\n",
       "           [ 1.1529,  1.1529,  1.1529,  ...,  1.1529,  1.1529,  1.1529]],\n",
       " \n",
       "          [[-1.6681, -1.6681, -1.6681,  ..., -1.6155, -1.5805, -1.9132],\n",
       "           [-1.2829, -1.2829, -1.2829,  ..., -1.2829, -1.2304, -1.5980],\n",
       "           [-1.2829, -1.2829, -1.2829,  ..., -1.2479, -1.2129, -1.5630],\n",
       "           ...,\n",
       "           [ 0.1176,  0.1176,  0.1176,  ...,  0.1352,  0.1352,  0.1352],\n",
       "           [ 0.1176,  0.1176,  0.1176,  ...,  0.1352,  0.1352,  0.1352],\n",
       "           [ 0.1176,  0.1176,  0.1176,  ...,  0.1352,  0.1352,  0.1352]],\n",
       " \n",
       "          [[ 0.6008,  0.6008,  0.6008,  ...,  0.5311,  0.5485,  0.1651],\n",
       "           [ 1.0191,  0.9842,  1.0191,  ...,  0.8971,  0.8971,  0.4962],\n",
       "           [ 1.0714,  1.0365,  1.0714,  ...,  0.9842,  0.9668,  0.5834],\n",
       "           ...,\n",
       "           [ 0.1825,  0.1825,  0.1825,  ...,  0.1999,  0.1999,  0.1999],\n",
       "           [ 0.1825,  0.1825,  0.1825,  ...,  0.1999,  0.1999,  0.1999],\n",
       "           [ 0.1825,  0.1825,  0.1825,  ...,  0.1999,  0.1999,  0.1999]]]]),\n",
       " 'labels': [{'size': tensor([1024, 1024]), 'image_id': tensor([215]), 'class_labels': tensor([5]), 'boxes': tensor([[0.5028, 0.4927, 0.0288, 0.0264]]), 'area': tensor([798.]), 'iscrowd': tensor([0]), 'orig_size': tensor([1024, 1024])}]}"
      ]
     },
     "execution_count": 19,
     "metadata": {},
     "output_type": "execute_result"
    }
   ],
   "source": [
    "batch = next(iter(train_dataloader))\n",
    "batch"
   ]
  },
  {
   "cell_type": "code",
   "execution_count": 20,
   "metadata": {},
   "outputs": [
    {
     "data": {
      "text/plain": [
       "torch.Size([1, 3, 1024, 1024])"
      ]
     },
     "execution_count": 20,
     "metadata": {},
     "output_type": "execute_result"
    }
   ],
   "source": [
    "batch[\"pixel_values\"].shape"
   ]
  },
  {
   "cell_type": "code",
   "execution_count": 21,
   "metadata": {},
   "outputs": [
    {
     "data": {
      "text/plain": [
       "[{'size': tensor([1024, 1024]), 'image_id': tensor([215]), 'class_labels': tensor([5]), 'boxes': tensor([[0.5028, 0.4927, 0.0288, 0.0264]]), 'area': tensor([798.]), 'iscrowd': tensor([0]), 'orig_size': tensor([1024, 1024])}]"
      ]
     },
     "execution_count": 21,
     "metadata": {},
     "output_type": "execute_result"
    }
   ],
   "source": [
    "batch[\"labels\"]"
   ]
  },
  {
   "cell_type": "code",
   "execution_count": 22,
   "metadata": {},
   "outputs": [],
   "source": [
    "class YoloTrainer(pl.LightningModule):\n",
    "\n",
    "     def __init__(self, lr, weight_decay):\n",
    "         super().__init__()\n",
    "         # replace COCO classification head with custom head\n",
    "         self.model = AutoModelForObjectDetection.from_pretrained(\"hustvl/yolos-small\",\n",
    "                                                                id2label=id2label,\n",
    "                                                                label2id=label2id,\n",
    "                                                                num_labels=len(id2label),\n",
    "                                                                ignore_mismatched_sizes=True)\n",
    "         # learning rate and weight decay\n",
    "         self.lr = lr\n",
    "         self.weight_decay = weight_decay\n",
    "\n",
    "     def forward(self, pixel_values):\n",
    "       outputs = self.model(pixel_values=pixel_values)\n",
    "       return outputs\n",
    "\n",
    "     def common_step(self, batch, batch_idx):\n",
    "       pixel_values = batch[\"pixel_values\"]\n",
    "       labels = [{k: v.to(self.device) for k, v in t.items()} for t in batch[\"labels\"]]\n",
    "\n",
    "       outputs = self.model(pixel_values=pixel_values, labels=labels)\n",
    "\n",
    "       loss = outputs.loss\n",
    "       loss_dict = outputs.loss_dict\n",
    "\n",
    "       return loss, loss_dict\n",
    "\n",
    "     def training_step(self, batch, batch_idx):\n",
    "        loss, loss_dict = self.common_step(batch, batch_idx)\n",
    "        # logs metrics for each training_step,\n",
    "        # and the average across the epoch\n",
    "        self.log(\"training_loss\", loss)\n",
    "        for k,v in loss_dict.items():\n",
    "          self.log(\"train_\" + k, v.item())\n",
    "\n",
    "        return loss\n",
    "\n",
    "     def validation_step(self, batch, batch_idx):\n",
    "        loss, loss_dict = self.common_step(batch, batch_idx)\n",
    "        self.log(\"validation_loss\", loss)\n",
    "        for k,v in loss_dict.items():\n",
    "          self.log(\"validation_\" + k, v.item())\n",
    "\n",
    "        return loss\n",
    "\n",
    "     def configure_optimizers(self):\n",
    "        optimizer = torch.optim.AdamW(self.parameters(), lr=self.lr,\n",
    "                                  weight_decay=self.weight_decay)\n",
    "\n",
    "        return optimizer\n",
    "\n",
    "     def train_dataloader(self):\n",
    "        return train_dataloader\n",
    "\n",
    "     def val_dataloader(self):\n",
    "        return val_dataloader"
   ]
  },
  {
   "cell_type": "code",
   "execution_count": 23,
   "metadata": {},
   "outputs": [
    {
     "name": "stderr",
     "output_type": "stream",
     "text": [
      "/home/carlotta/Documents/vision_project/env/lib/python3.10/site-packages/torch/_utils.py:831: UserWarning: TypedStorage is deprecated. It will be removed in the future and UntypedStorage will be the only storage class. This should only matter to you if you are using storages directly.  To access UntypedStorage directly, use tensor.untyped_storage() instead of tensor.storage()\n",
      "  return self.fget.__get__(instance, owner)()\n",
      "Some weights of YolosForObjectDetection were not initialized from the model checkpoint at hustvl/yolos-small and are newly initialized because the shapes did not match:\n",
      "- class_labels_classifier.layers.2.weight: found shape torch.Size([92, 384]) in the checkpoint and torch.Size([12, 384]) in the model instantiated\n",
      "- class_labels_classifier.layers.2.bias: found shape torch.Size([92]) in the checkpoint and torch.Size([12]) in the model instantiated\n",
      "You should probably TRAIN this model on a down-stream task to be able to use it for predictions and inference.\n"
     ]
    }
   ],
   "source": [
    "yolo_legos = YoloTrainer(lr=2.5e-5, weight_decay=1e-4)\n"
   ]
  },
  {
   "cell_type": "code",
   "execution_count": null,
   "metadata": {},
   "outputs": [],
   "source": [
    "# outputs = yolo_legos(pixel_values=batch['pixel_values'])"
   ]
  },
  {
   "cell_type": "code",
   "execution_count": 24,
   "metadata": {},
   "outputs": [
    {
     "name": "stderr",
     "output_type": "stream",
     "text": [
      "GPU available: False, used: False\n",
      "TPU available: False, using: 0 TPU cores\n",
      "IPU available: False, using: 0 IPUs\n",
      "HPU available: False, using: 0 HPUs\n"
     ]
    }
   ],
   "source": [
    "trainer = Trainer(accelerator=\"auto\", max_steps=3, gradient_clip_val=0.1)\n"
   ]
  },
  {
   "cell_type": "code",
   "execution_count": 25,
   "metadata": {},
   "outputs": [
    {
     "name": "stderr",
     "output_type": "stream",
     "text": [
      "\n",
      "  | Name  | Type                    | Params\n",
      "--------------------------------------------------\n",
      "0 | model | YolosForObjectDetection | 30.7 M\n",
      "--------------------------------------------------\n",
      "30.7 M    Trainable params\n",
      "0         Non-trainable params\n",
      "30.7 M    Total params\n",
      "122.616   Total estimated model params size (MB)\n"
     ]
    },
    {
     "data": {
      "application/vnd.jupyter.widget-view+json": {
       "model_id": "d2f00fd1f97b48d9aecfdde905965e54",
       "version_major": 2,
       "version_minor": 0
      },
      "text/plain": [
       "Sanity Checking: |          | 0/? [00:00<?, ?it/s]"
      ]
     },
     "metadata": {},
     "output_type": "display_data"
    },
    {
     "name": "stderr",
     "output_type": "stream",
     "text": [
      "/home/carlotta/Documents/vision_project/env/lib/python3.10/site-packages/pytorch_lightning/trainer/connectors/data_connector.py:441: The 'val_dataloader' does not have many workers which may be a bottleneck. Consider increasing the value of the `num_workers` argument` to `num_workers=7` in the `DataLoader` to improve performance.\n",
      "/home/carlotta/Documents/vision_project/env/lib/python3.10/site-packages/pytorch_lightning/utilities/data.py:77: Trying to infer the `batch_size` from an ambiguous collection. The batch size we found is 1. To avoid any miscalculations, use `self.log(..., batch_size=batch_size)`.\n",
      "/home/carlotta/Documents/vision_project/env/lib/python3.10/site-packages/pytorch_lightning/trainer/connectors/data_connector.py:441: The 'train_dataloader' does not have many workers which may be a bottleneck. Consider increasing the value of the `num_workers` argument` to `num_workers=7` in the `DataLoader` to improve performance.\n"
     ]
    },
    {
     "data": {
      "application/vnd.jupyter.widget-view+json": {
       "model_id": "942e07005a81440e88b92cf0e8480f97",
       "version_major": 2,
       "version_minor": 0
      },
      "text/plain": [
       "Training: |          | 0/? [00:00<?, ?it/s]"
      ]
     },
     "metadata": {},
     "output_type": "display_data"
    },
    {
     "ename": "",
     "evalue": "",
     "output_type": "error",
     "traceback": [
      "\u001b[1;31mThe Kernel crashed while executing code in the current cell or a previous cell. \n",
      "\u001b[1;31mPlease review the code in the cell(s) to identify a possible cause of the failure. \n",
      "\u001b[1;31mClick <a href='https://aka.ms/vscodeJupyterKernelCrash'>here</a> for more info. \n",
      "\u001b[1;31mView Jupyter <a href='command:jupyter.viewOutput'>log</a> for further details."
     ]
    }
   ],
   "source": [
    "trainer.fit(yolo_legos)"
   ]
  },
  {
   "cell_type": "code",
   "execution_count": 1,
   "metadata": {},
   "outputs": [
    {
     "ename": "NameError",
     "evalue": "name 'test_dataset' is not defined",
     "output_type": "error",
     "traceback": [
      "\u001b[0;31m---------------------------------------------------------------------------\u001b[0m",
      "\u001b[0;31mNameError\u001b[0m                                 Traceback (most recent call last)",
      "Cell \u001b[0;32mIn[1], line 1\u001b[0m\n\u001b[0;32m----> 1\u001b[0m image_ids \u001b[38;5;241m=\u001b[39m \u001b[43mtest_dataset\u001b[49m\u001b[38;5;241m.\u001b[39mcoco\u001b[38;5;241m.\u001b[39mgetImgIds()\n\u001b[1;32m      2\u001b[0m image_id \u001b[38;5;241m=\u001b[39m image_ids[np\u001b[38;5;241m.\u001b[39mrandom\u001b[38;5;241m.\u001b[39mrandint(\u001b[38;5;241m0\u001b[39m, \u001b[38;5;28mlen\u001b[39m(image_ids))]\n\u001b[1;32m      3\u001b[0m \u001b[38;5;28mprint\u001b[39m(\u001b[38;5;124m'\u001b[39m\u001b[38;5;124mImage n°\u001b[39m\u001b[38;5;132;01m{}\u001b[39;00m\u001b[38;5;124m'\u001b[39m\u001b[38;5;241m.\u001b[39mformat(image_id))\n",
      "\u001b[0;31mNameError\u001b[0m: name 'test_dataset' is not defined"
     ]
    }
   ],
   "source": [
    "image_ids = test_dataset.coco.getImgIds()\n",
    "image_id = image_ids[np.random.randint(0, len(image_ids))]\n",
    "print('Image n°{}'.format(image_id))\n",
    "test_image = test_dataset.coco.loadImgs(image_id)[0]\n",
    "test_image = Image.open(os.path.join('./test', test_image['file_name']))\n",
    "test_image"
   ]
  },
  {
   "cell_type": "code",
   "execution_count": null,
   "metadata": {},
   "outputs": [],
   "source": [
    "ckpt = torch.load(\"lightning_logs/version_6/checkpoints/epoch=0-step=150.ckpt\")[\"state_dict\"]\n",
    "yolo_legos.load_state_dict(ckpt)"
   ]
  },
  {
   "cell_type": "code",
   "execution_count": null,
   "metadata": {},
   "outputs": [],
   "source": [
    "pred_lego = make_prediction(test_image, yolo_legos, id2label)\n"
   ]
  },
  {
   "cell_type": "code",
   "execution_count": null,
   "metadata": {},
   "outputs": [],
   "source": [
    "pred_lego"
   ]
  }
 ],
 "metadata": {
  "kernelspec": {
   "display_name": "env",
   "language": "python",
   "name": "python3"
  },
  "language_info": {
   "codemirror_mode": {
    "name": "ipython",
    "version": 3
   },
   "file_extension": ".py",
   "mimetype": "text/x-python",
   "name": "python",
   "nbconvert_exporter": "python",
   "pygments_lexer": "ipython3",
   "version": "3.10.12"
  }
 },
 "nbformat": 4,
 "nbformat_minor": 2
}
